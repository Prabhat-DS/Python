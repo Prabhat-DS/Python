{
  "nbformat": 4,
  "nbformat_minor": 0,
  "metadata": {
    "colab": {
      "name": "list_task-2.ipynb",
      "provenance": [],
      "collapsed_sections": []
    },
    "kernelspec": {
      "name": "python3",
      "display_name": "Python 3"
    },
    "language_info": {
      "name": "python"
    }
  },
  "cells": [
    {
      "cell_type": "code",
      "execution_count": 1,
      "metadata": {
        "id": "rNET49nWGmru"
      },
      "outputs": [],
      "source": [
        "# list_Task-2 \n",
        "\n",
        "# l = [3,4,5,6,7 , [23,456,67,8,78,78] , [345,56,87,8,98,9] , (234,6657,6) , {\"key1\" :\"sudh\" , 234:[23,45,656]}]\n",
        "# 1 . Try to reverse a list \n",
        "# 2. try to access 234 out of this list \n",
        "# 3 . try to access 456 \n",
        "# 4 . Try to extract only a list collection form list l \n",
        "# 5 . Try to extract \"sudh\"\n",
        "# 6 . Try to list all the key in dict element avaible in list \n",
        "# 7 . Try to extract all the value element form dict available in list"
      ]
    },
    {
      "cell_type": "code",
      "source": [
        "l = [3,4,5,6,7 , [23,456,67,8,78,78] , [345,56,87,8,98,9] , (234,6657,6) , {\"key1\" :\"sudh\" , 234:[23,45,656]}]\n"
      ],
      "metadata": {
        "id": "r5s7swVhKfkl"
      },
      "execution_count": 18,
      "outputs": []
    },
    {
      "cell_type": "code",
      "source": [
        "# 1 . Try to reverse a list \n",
        "print(l[:-1])"
      ],
      "metadata": {
        "colab": {
          "base_uri": "https://localhost:8080/"
        },
        "id": "buaIgyflKja2",
        "outputId": "90b47e6d-cf39-494f-b6fe-5af9735643e4"
      },
      "execution_count": 17,
      "outputs": [
        {
          "output_type": "stream",
          "name": "stdout",
          "text": [
            "[{'key1': 'sudh', 234: [23, 45, 656]}, (234, 6657, 6), [345, 56, 87, 8, 98, 9], [23, 456, 67, 8, 78, 78], 7, 6, 5, 4]\n"
          ]
        }
      ]
    },
    {
      "cell_type": "code",
      "source": [
        "# 2. try to access 234 out of this list \n",
        "l[7][0]"
      ],
      "metadata": {
        "colab": {
          "base_uri": "https://localhost:8080/"
        },
        "id": "FdmFVoSwKmnt",
        "outputId": "a3ea9e5c-3bc2-4bda-b6f0-2c146d81cbba"
      },
      "execution_count": 19,
      "outputs": [
        {
          "output_type": "execute_result",
          "data": {
            "text/plain": [
              "234"
            ]
          },
          "metadata": {},
          "execution_count": 19
        }
      ]
    },
    {
      "cell_type": "code",
      "source": [
        "# 3 . try to access 456 \n",
        "l[5][1]"
      ],
      "metadata": {
        "colab": {
          "base_uri": "https://localhost:8080/"
        },
        "id": "AI_onPPTLiiN",
        "outputId": "5fe882a4-a84c-4ee7-bd89-96d4e2c04c17"
      },
      "execution_count": 21,
      "outputs": [
        {
          "output_type": "execute_result",
          "data": {
            "text/plain": [
              "456"
            ]
          },
          "metadata": {},
          "execution_count": 21
        }
      ]
    },
    {
      "cell_type": "code",
      "source": [
        "# 4 . Try to extract only a list collection form list l \n",
        "l[5:7]"
      ],
      "metadata": {
        "colab": {
          "base_uri": "https://localhost:8080/"
        },
        "id": "533KA__HL6-2",
        "outputId": "830b3ced-ca78-4351-c09a-1b1df6856250"
      },
      "execution_count": 25,
      "outputs": [
        {
          "output_type": "execute_result",
          "data": {
            "text/plain": [
              "[[23, 456, 67, 8, 78, 78], [345, 56, 87, 8, 98, 9]]"
            ]
          },
          "metadata": {},
          "execution_count": 25
        }
      ]
    },
    {
      "cell_type": "code",
      "source": [
        "# 5 . Try to extract \"sudh\"\n",
        "# 6 . Try to list all the key in dict element avaible in list \n",
        "# 7 . Try to extract all the value element form dict available in list"
      ],
      "metadata": {
        "id": "QDZU0i6XMM0P"
      },
      "execution_count": 26,
      "outputs": []
    },
    {
      "cell_type": "code",
      "source": [
        "l"
      ],
      "metadata": {
        "colab": {
          "base_uri": "https://localhost:8080/"
        },
        "id": "uVjIGwXpMpYU",
        "outputId": "45a07618-78f8-493e-d6d5-31c1a3e38170"
      },
      "execution_count": 27,
      "outputs": [
        {
          "output_type": "execute_result",
          "data": {
            "text/plain": [
              "[3,\n",
              " 4,\n",
              " 5,\n",
              " 6,\n",
              " 7,\n",
              " [23, 456, 67, 8, 78, 78],\n",
              " [345, 56, 87, 8, 98, 9],\n",
              " (234, 6657, 6),\n",
              " {234: [23, 45, 656], 'key1': 'sudh'}]"
            ]
          },
          "metadata": {},
          "execution_count": 27
        }
      ]
    },
    {
      "cell_type": "code",
      "source": [
        "l[-1]['key1']"
      ],
      "metadata": {
        "colab": {
          "base_uri": "https://localhost:8080/",
          "height": 36
        },
        "id": "b7ofZbcaMp7H",
        "outputId": "fe330f25-7446-415c-efa9-411c1220cd24"
      },
      "execution_count": 31,
      "outputs": [
        {
          "output_type": "execute_result",
          "data": {
            "text/plain": [
              "'sudh'"
            ],
            "application/vnd.google.colaboratory.intrinsic+json": {
              "type": "string"
            }
          },
          "metadata": {},
          "execution_count": 31
        }
      ]
    },
    {
      "cell_type": "code",
      "source": [
        "# 6 . Try to list all the key in dict element avaible in list \n",
        "list(l[-1].keys())"
      ],
      "metadata": {
        "colab": {
          "base_uri": "https://localhost:8080/"
        },
        "id": "GpDHVUm-Mz1U",
        "outputId": "483adad5-cc97-419b-cea2-47430a2cf8f1"
      },
      "execution_count": 36,
      "outputs": [
        {
          "output_type": "execute_result",
          "data": {
            "text/plain": [
              "['key1', 234]"
            ]
          },
          "metadata": {},
          "execution_count": 36
        }
      ]
    },
    {
      "cell_type": "code",
      "source": [
        "# 7 . Try to extract all the value element form dict available in list\n",
        "list(l[8].values())"
      ],
      "metadata": {
        "colab": {
          "base_uri": "https://localhost:8080/"
        },
        "id": "Og6EHBGKNhJ1",
        "outputId": "237d86fd-77c3-477d-c1c5-288feba90b35"
      },
      "execution_count": 37,
      "outputs": [
        {
          "output_type": "execute_result",
          "data": {
            "text/plain": [
              "['sudh', [23, 45, 656]]"
            ]
          },
          "metadata": {},
          "execution_count": 37
        }
      ]
    },
    {
      "cell_type": "code",
      "source": [
        ""
      ],
      "metadata": {
        "id": "5_-jerV_OTyS"
      },
      "execution_count": null,
      "outputs": []
    }
  ]
}