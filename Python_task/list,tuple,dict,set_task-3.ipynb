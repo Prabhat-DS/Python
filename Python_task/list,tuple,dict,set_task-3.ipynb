{
  "nbformat": 4,
  "nbformat_minor": 0,
  "metadata": {
    "colab": {
      "name": "list,tuple,dict,set_task-3.ipynb",
      "provenance": [],
      "collapsed_sections": []
    },
    "kernelspec": {
      "name": "python3",
      "display_name": "Python 3"
    },
    "language_info": {
      "name": "python"
    }
  },
  "cells": [
    {
      "cell_type": "code",
      "execution_count": null,
      "metadata": {
        "id": "Pl_HbUweOnw6"
      },
      "outputs": [],
      "source": [
        "# q1 :\n",
        "# ineruon \n",
        "# ineruon ineruon \n",
        "# ineruon ineruon ineruon\n",
        "# ineruon ineruon ineruon ineruon\n",
        "\n",
        "# q2 - \n",
        "\n",
        "#           ineruon\n",
        "#     ineruon      ineruon\n",
        "# ineruon\t\tineruon \tineruon\n",
        "# \t  ineruon\t\t ineruon\n",
        "# \t\t     ineruon\n",
        "\n",
        "# l = [[1,2,3,4] , (2,3,4,5,6) , (3,4,5,6,7) , set([23,4,5,45,4,4,5,45,45,4,5]) , {'k1' :\"sudh\" , \"k2\" : \"ineuron\",\"k3\":\n",
        "#             \"kumar\" , 3:6 , 7:8} , [\"ineuron\" , \"data science \"]]\n",
        "\n",
        "# q3 : Try to extract all the list entity \n",
        "# q4 : Try to extract all the dict enteties\n",
        "# q5 : Try to extract all the tuples entities\n",
        "# q6 : Try to extract all the numerical data it may b a part of dict key and values \n",
        "# q7 : Try to give summation of all the numeric data \n",
        "# q8 : Try to filter out all the odd values out all numeric data which is a part of a list \n",
        "# q9 : Try to extract \"ineruon\" out of this data\n",
        "# q10 : Try to find out a number of occurances of all the data \n",
        "# q11 : Try to find out number of keys in dict element\n",
        "# q12 : Try to filter out all the string data \n",
        "# q13 : Try to Find  out alphanum in data\n",
        "# q14 : Try to find out multiplication of all numeric value in the individual collection inside dataset"
      ]
    },
    {
      "cell_type": "code",
      "source": [
        "# q1 :\n",
        "# ineruon \n",
        "# ineruon ineruon \n",
        "# ineruon ineruon ineruon\n",
        "# ineruon ineruon ineruon ineruon\n",
        "\n",
        "row=int(input(\"enter num of rows: \"))\n",
        "for i in range(row+1):\n",
        "    print(\"ineruon\\t\"*i)\n"
      ],
      "metadata": {
        "id": "SOY5VXDROzs_",
        "colab": {
          "base_uri": "https://localhost:8080/"
        },
        "outputId": "715681db-b4bf-4044-8d37-43fd9cfd0f42"
      },
      "execution_count": 9,
      "outputs": [
        {
          "output_type": "stream",
          "name": "stdout",
          "text": [
            "enter num of rows: 5\n",
            "\n",
            "ineruon\t\n",
            "ineruon\tineruon\t\n",
            "ineruon\tineruon\tineruon\t\n",
            "ineruon\tineruon\tineruon\tineruon\t\n",
            "ineruon\tineruon\tineruon\tineruon\tineruon\t\n"
          ]
        }
      ]
    },
    {
      "cell_type": "code",
      "source": [
        "# q2 - \n",
        "\n",
        "#           ineruon\n",
        "#     ineruon      ineruon\n",
        "# ineruon\t\tineruon \tineruon\n",
        "# \t  ineruon\t\t ineruon\n",
        "# \t\t     ineruon\n",
        "# =========================================\n",
        "\n",
        "row1= int(input(\"enter the odd num of rows u want:\"))\n",
        "\n",
        "for i in range(row1+1):\n",
        "  if i <= (row1+1)/2:\n",
        "    print((\"ineruon \"*i).center(30))\n",
        "  else:\n",
        "    print((\"ineruon \"*(row1+1-i)).center(30))\n",
        "                                         \n",
        "    "
      ],
      "metadata": {
        "colab": {
          "base_uri": "https://localhost:8080/"
        },
        "id": "ziGnymnwSWjO",
        "outputId": "3e07715f-d1d7-4b50-dfb8-aee83b851d75"
      },
      "execution_count": 47,
      "outputs": [
        {
          "output_type": "stream",
          "name": "stdout",
          "text": [
            "enter the odd num of rows u want:5\n",
            "                              \n",
            "           ineruon            \n",
            "       ineruon ineruon        \n",
            "   ineruon ineruon ineruon    \n",
            "       ineruon ineruon        \n",
            "           ineruon            \n"
          ]
        }
      ]
    },
    {
      "cell_type": "code",
      "source": [
        "\n",
        "# l = [[1,2,3,4] , (2,3,4,5,6) , (3,4,5,6,7) , set([23,4,5,45,4,4,5,45,45,4,5]) , {'k1' :\"sudh\" , \"k2\" : \"ineuron\",\"k3\":\n",
        "#             \"kumar\" , 3:6 , 7:8} , [\"ineuron\" , \"data science \"]]\n",
        "\n",
        "# q3 : Try to extract all the list entity \n",
        "# q4 : Try to extract all the dict enteties\n",
        "# q5 : Try to extract all the tuples entities\n",
        "# q6 : Try to extract all the numerical data it may b a part of dict key and values"
      ],
      "metadata": {
        "colab": {
          "base_uri": "https://localhost:8080/",
          "height": 135
        },
        "id": "sOyk64AuZgoF",
        "outputId": "414c92c7-9847-4262-c68c-a90da9a35c9b"
      },
      "execution_count": 48,
      "outputs": [
        {
          "output_type": "error",
          "ename": "IndentationError",
          "evalue": "ignored",
          "traceback": [
            "\u001b[0;36m  File \u001b[0;32m\"<ipython-input-48-627c5c7a01a4>\"\u001b[0;36m, line \u001b[0;32m2\u001b[0m\n\u001b[0;31m    l = [[1,2,3,4] , (2,3,4,5,6) , (3,4,5,6,7) , set([23,4,5,45,4,4,5,45,45,4,5]) , {'k1' :\"sudh\" , \"k2\" : \"ineuron\",\"k3\": \"kumar\" , 3:6 , 7:8} , [\"ineuron\" , \"data science \"]]\u001b[0m\n\u001b[0m    ^\u001b[0m\n\u001b[0;31mIndentationError\u001b[0m\u001b[0;31m:\u001b[0m unexpected indent\n"
          ]
        }
      ]
    },
    {
      "cell_type": "code",
      "source": [
        " l = [[1,2,3,4] , (2,3,4,5,6) , (3,4,5,6,7) , set([23,4,5,45,4,4,5,45,45,4,5]) , {'k1' :\"sudh\" , \"k2\" : \"ineuron\",\"k3\": \"kumar\" , 3:6 , 7:8} , [\"ineuron\" , \"data science \"]]"
      ],
      "metadata": {
        "id": "YZSgLQ6DdHdC"
      },
      "execution_count": 50,
      "outputs": []
    },
    {
      "cell_type": "code",
      "source": [
        "# q3 : Try to extract all the list entity \n",
        "for i in l:\n",
        "  if type(i)== list:\n",
        "    print(i)"
      ],
      "metadata": {
        "colab": {
          "base_uri": "https://localhost:8080/"
        },
        "id": "nlu4kbD4dbse",
        "outputId": "af584dff-3da5-4300-f29a-fbb5e5ff0d57"
      },
      "execution_count": 61,
      "outputs": [
        {
          "output_type": "stream",
          "name": "stdout",
          "text": [
            "[1, 2, 3, 4]\n",
            "['ineuron', 'data science ']\n"
          ]
        }
      ]
    },
    {
      "cell_type": "code",
      "source": [
        "# q4 : Try to extract all the dict enteties\n",
        "for i in l:\n",
        "  if type(i)== dict:\n",
        "    print(i)"
      ],
      "metadata": {
        "colab": {
          "base_uri": "https://localhost:8080/"
        },
        "id": "UaWt7PaMd26O",
        "outputId": "638828f6-4a13-4fde-ccb4-60af7b666106"
      },
      "execution_count": 62,
      "outputs": [
        {
          "output_type": "stream",
          "name": "stdout",
          "text": [
            "{'k1': 'sudh', 'k2': 'ineuron', 'k3': 'kumar', 3: 6, 7: 8}\n"
          ]
        }
      ]
    },
    {
      "cell_type": "code",
      "source": [
        "# q5 : Try to extract all the tuples entities\n",
        "for i in l:\n",
        "  if type(i)== tuple:\n",
        "    print(i)"
      ],
      "metadata": {
        "colab": {
          "base_uri": "https://localhost:8080/"
        },
        "id": "3PG9das3gHcs",
        "outputId": "679247f8-f78b-4073-d83b-2a5c2555c004"
      },
      "execution_count": 63,
      "outputs": [
        {
          "output_type": "stream",
          "name": "stdout",
          "text": [
            "(2, 3, 4, 5, 6)\n",
            "(3, 4, 5, 6, 7)\n"
          ]
        }
      ]
    },
    {
      "cell_type": "code",
      "source": [
        "# q6 : Try to extract all the numerical data it may b a part of dict key and values\n",
        "l = [[1,2,3,4] , (2,3,4,5,6) , (3,4,5,6,7) , set([23,4,5,45,4,4,5,45,45,4,5]) , {'k1' :\"sudh\" , \"k2\" : \"ineuron\",\"k3\": \"kumar\" , 3:6 , 7:8} , [\"ineuron\" , \"data science \"]]\n",
        "l1=[]\n",
        "for i in l:\n",
        "  if type(i)== list or type(i)== tuple or type(i)== set:\n",
        "    for j in i:\n",
        "      if type(j) == int :\n",
        "        l1.append(j)\n",
        "  if type(i) == dict :\n",
        "    for k in i.items() :\n",
        "      for g in k :\n",
        "        if type(g) == int :\n",
        "          l1.append(g)\n",
        "print(l1)\n",
        "      \n",
        "\n",
        "\n",
        "    "
      ],
      "metadata": {
        "colab": {
          "base_uri": "https://localhost:8080/"
        },
        "id": "gRqll16ygQI3",
        "outputId": "64c7ed29-d7f8-4d86-a7b7-fcdf2ce4f0f0"
      },
      "execution_count": 28,
      "outputs": [
        {
          "output_type": "stream",
          "name": "stdout",
          "text": [
            "[1, 2, 3, 4, 2, 3, 4, 5, 6, 3, 4, 5, 6, 7, 45, 4, 5, 23, 3, 6, 7, 8]\n"
          ]
        }
      ]
    },
    {
      "cell_type": "code",
      "source": [
        "# q7 : Try to give summation of all the numeric data \n",
        "# q8 : Try to filter out all the odd values out all numeric data which is a part of a list \n",
        "# q9 : Try to extract \"ineruon\" out of this data\n",
        "# q10 : Try to find out a number of occurances of all the data \n",
        "# q11 : Try to find out number of keys in dict element\n",
        "# q12 : Try to filter out all the string data \n",
        "# q13 : Try to Find  out alphanum in data\n",
        "# q14 : Try to find out multiplication of all numeric value in the individual collection inside dataset\n"
      ],
      "metadata": {
        "id": "AOQNstgjis0h"
      },
      "execution_count": 29,
      "outputs": []
    },
    {
      "cell_type": "code",
      "source": [
        "l"
      ],
      "metadata": {
        "colab": {
          "base_uri": "https://localhost:8080/"
        },
        "id": "j-FdUQmfizva",
        "outputId": "3286d65d-4903-49cd-ba33-01195432acf6"
      },
      "execution_count": 30,
      "outputs": [
        {
          "output_type": "execute_result",
          "data": {
            "text/plain": [
              "[[1, 2, 3, 4],\n",
              " (2, 3, 4, 5, 6),\n",
              " (3, 4, 5, 6, 7),\n",
              " {4, 5, 23, 45},\n",
              " {3: 6, 7: 8, 'k1': 'sudh', 'k2': 'ineuron', 'k3': 'kumar'},\n",
              " ['ineuron', 'data science ']]"
            ]
          },
          "metadata": {},
          "execution_count": 30
        }
      ]
    },
    {
      "cell_type": "code",
      "source": [
        "# q7 : Try to give summation of all the numeric data \n",
        "l1=[]\n",
        "for i in l:\n",
        "  if type(i)== list or type(i)== tuple or type(i)== set:\n",
        "    for j in i:\n",
        "      if type(j) == int :\n",
        "        l1.append(j)\n",
        "  if type(i) == dict :\n",
        "    for k in i.items() :\n",
        "      for g in k :\n",
        "        if type(g) == int :\n",
        "          l1.append(g)\n",
        "print(l1)\n",
        "print(\"sum of all numeric data: \",sum(l1))     "
      ],
      "metadata": {
        "colab": {
          "base_uri": "https://localhost:8080/"
        },
        "id": "1SmSPzGgDc5z",
        "outputId": "ac1fc3f4-c0d4-4e5d-852b-0289fd72f881"
      },
      "execution_count": 33,
      "outputs": [
        {
          "output_type": "stream",
          "name": "stdout",
          "text": [
            "[1, 2, 3, 4, 2, 3, 4, 5, 6, 3, 4, 5, 6, 7, 45, 4, 5, 23, 3, 6, 7, 8]\n",
            "sum of all numeric data:  156\n"
          ]
        }
      ]
    },
    {
      "cell_type": "code",
      "source": [
        "# q8 : Try to filter out all the odd values out all numeric data which is a part of a list\n",
        "l2=[]\n",
        "for i in l:\n",
        "  if type(i)== list or type(i)== tuple or type(i)== set:\n",
        "    for j in i:\n",
        "      if type(j) == int :\n",
        "        if j % 2 != 0:\n",
        "          l2.append(j)\n",
        "  if type(i) == dict :\n",
        "    for k in i.items() :\n",
        "      for g in k :\n",
        "        if type(g) == int :\n",
        "          if g % 2 != 0 :\n",
        "            l2.append(g)\n",
        "print(l2)"
      ],
      "metadata": {
        "colab": {
          "base_uri": "https://localhost:8080/"
        },
        "id": "i2Vvy4ZkEdee",
        "outputId": "d5733f0e-e65f-428c-e558-9610e3e04cbb"
      },
      "execution_count": 40,
      "outputs": [
        {
          "output_type": "stream",
          "name": "stdout",
          "text": [
            "[1, 3, 3, 5, 3, 5, 7, 45, 5, 23, 3, 7]\n"
          ]
        }
      ]
    },
    {
      "cell_type": "code",
      "source": [
        "# q9 : Try to extract \"ineruon\" out of this data\n",
        "l = [[1,2,3,4] , (2,3,4,5,6) , (3,4,5,6,7) , set([23,4,5,45,4,4,5,45,45,4,5]) , {'k1' :\"sudh\" , \"k2\" : \"ineuron\",\"k3\": \"kumar\" , 3:6 , 7:8} , [\"ineuron\" , \"data science \"]]\n",
        "l3=[]\n",
        "for i in l:\n",
        "  if type(i)== list or type(i)== tuple or type(i)== set:\n",
        "    for j in i:\n",
        "      if j ==\"ineruon\":\n",
        "        l3.append(j)\n",
        "  if type(i) == dict :\n",
        "    for k in i.items() :\n",
        "      for g in k :\n",
        "        if g==\"ineruon\":\n",
        "          l3.append(g)\n",
        "l3\n"
      ],
      "metadata": {
        "colab": {
          "base_uri": "https://localhost:8080/"
        },
        "id": "iK-DCc9oFmXa",
        "outputId": "e1763405-76b4-4c44-b6e9-6e8fb454c675"
      },
      "execution_count": 67,
      "outputs": [
        {
          "output_type": "execute_result",
          "data": {
            "text/plain": [
              "[]"
            ]
          },
          "metadata": {},
          "execution_count": 67
        }
      ]
    },
    {
      "cell_type": "code",
      "source": [
        "# q10 : Try to find out a number of occurances of all the data\n",
        "l = [[1,2,3,4] , (2,3,4,5,6) , (3,4,5,6,7) , set([23,4,5,45,4,4,5,45,45,4,5]) , {'k1' :\"sudh\" , \"k2\" : \"ineuron\",\"k3\": \"kumar\" , 3:6 , 7:8} , [\"ineuron\" , \"data science \"]]\n",
        "l4=[]\n",
        "for i in l:\n",
        "  if type(i)== list or type(i)== tuple or type(i)== set:\n",
        "    for j in i:\n",
        "      if type(j) == int or type(j)==str :\n",
        "        l4.append(j)\n",
        "  if type(i) == dict :\n",
        "    for k in i.items() :\n",
        "      for g in k :\n",
        "        if type(g) == int or type(g)==str :\n",
        "          l4.append(g)\n",
        "for n in set(l4) : \n",
        "    print(n , \":\" ,l4.count(n))"
      ],
      "metadata": {
        "colab": {
          "base_uri": "https://localhost:8080/"
        },
        "id": "CLhgE3VXJbjf",
        "outputId": "171cd07b-3c9c-41b7-c5cb-67512769c306"
      },
      "execution_count": 73,
      "outputs": [
        {
          "output_type": "stream",
          "name": "stdout",
          "text": [
            "1 : 1\n",
            "2 : 2\n",
            "3 : 4\n",
            "4 : 4\n",
            "5 : 3\n",
            "6 : 3\n",
            "7 : 2\n",
            "8 : 1\n",
            "k3 : 1\n",
            "kumar : 1\n",
            "45 : 1\n",
            "data science  : 1\n",
            "sudh : 1\n",
            "k2 : 1\n",
            "ineuron : 2\n",
            "23 : 1\n",
            "k1 : 1\n"
          ]
        }
      ]
    },
    {
      "cell_type": "code",
      "source": [
        "# q11 : Try to find out number of keys in dict element\n",
        "l = [[1,2,3,4] , (2,3,4,5,6) , (3,4,5,6,7) , set([23,4,5,45,4,4,5,45,45,4,5]) , {'k1' :\"sudh\" , \"k2\" : \"ineuron\",\"k3\": \"kumar\" , 3:6 , 7:8} , [\"ineuron\" , \"data science \"]]\n",
        "l4=[]\n",
        "for i in l:\n",
        "  if type(i) == dict :\n",
        "    print(len(i))"
      ],
      "metadata": {
        "colab": {
          "base_uri": "https://localhost:8080/"
        },
        "id": "XFmlF0eAL09C",
        "outputId": "47360fc4-735c-4c7e-c17b-3d55863facec"
      },
      "execution_count": 76,
      "outputs": [
        {
          "output_type": "stream",
          "name": "stdout",
          "text": [
            "5\n"
          ]
        }
      ]
    },
    {
      "cell_type": "code",
      "source": [
        "# q12 : Try to filter out all the string data\n",
        "l = [[1,2,3,4] , (2,3,4,5,6) , (3,4,5,6,7) , set([23,4,5,45,4,4,5,45,45,4,5]) , {'k1' :\"sudh\" , \"k2\" : \"ineuron\",\"k3\": \"kumar\" , 3:6 , 7:8} , [\"ineuron\" , \"data science \"]]\n",
        "l5=[]\n",
        "for i in l:\n",
        "  if type(i)== list or type(i)== tuple or type(i)== set:\n",
        "    for j in i:\n",
        "      if type(j) == str :\n",
        "        l5.append(j)\n",
        "  if type(i) == dict :\n",
        "    for k in i.items() :\n",
        "      for g in k :\n",
        "        if type(g) == str :\n",
        "          l5.append(g)\n",
        "print(l5)"
      ],
      "metadata": {
        "colab": {
          "base_uri": "https://localhost:8080/"
        },
        "id": "AhIApiEcL5Bw",
        "outputId": "a8163cf7-733d-455f-85bd-4956645dd3d5"
      },
      "execution_count": 78,
      "outputs": [
        {
          "output_type": "stream",
          "name": "stdout",
          "text": [
            "['k1', 'sudh', 'k2', 'ineuron', 'k3', 'kumar', 'ineuron', 'data science ']\n"
          ]
        }
      ]
    },
    {
      "cell_type": "code",
      "source": [
        "# q13 : Try to Find  out alphanum in data\n",
        "l = [[1,2,3,4] , (2,3,4,5,6) , (3,4,5,6,7) , set([23,4,5,45,4,4,5,45,45,4,5]) , {'k1' :\"sudh\" , \"k2\" : \"ineuron\",\"k3\": \"kumar\" , 3:6 , 7:8} , [\"ineuron\" , \"data science \"]]\n",
        "l6=[]\n",
        "for i in l:\n",
        "  if type(i)== list or type(i)== tuple or type(i)== set:\n",
        "    for j in i:\n",
        "      if type(j) == str :\n",
        "        l6.append(j)\n",
        "  if type(i) == dict :\n",
        "    for k in i.items() :\n",
        "      for g in k :\n",
        "        if type(g) == str :\n",
        "          l6.append(g)\n",
        "\n",
        "for n in l6:\n",
        "  if type(n)== str:\n",
        "    if n.isalnum() :\n",
        "      print(n)\n"
      ],
      "metadata": {
        "colab": {
          "base_uri": "https://localhost:8080/"
        },
        "id": "10xdiOKPNu0_",
        "outputId": "750163db-4c1c-4fde-d804-d9973d5a775c"
      },
      "execution_count": 90,
      "outputs": [
        {
          "output_type": "stream",
          "name": "stdout",
          "text": [
            "k1\n",
            "sudh\n",
            "k2\n",
            "ineuron\n",
            "k3\n",
            "kumar\n",
            "ineuron\n"
          ]
        }
      ]
    },
    {
      "cell_type": "code",
      "source": [
        "# q14 : Try to find out multiplication of all numeric value in the individual collection inside dataset\n",
        "l = [[1,2,3,4] , (2,3,4,5,6) , (3,4,5,6,7) , set([23,4,5,45,4,4,5,45,45,4,5]) , {'k1' :\"sudh\" , \"k2\" : \"ineuron\",\"k3\": \"kumar\" , 3:6 , 7:8} , [\"ineuron\" , \"data science \"]]\n",
        "\n",
        "for i in l:\n",
        "  m=1\n",
        "  if type(i)==list or type(i)==tuple or type(i)==set:\n",
        "    for k in i:\n",
        "      if type(k)==int:\n",
        "        m=m*k\n",
        "    print(type(i),m)\n",
        "  elif type(i) == dict:\n",
        "    for j in i.items() :\n",
        "      for n in j :\n",
        "        if type(n) == int:\n",
        "          m = m*n\n",
        "    print(type(i),m)\n"
      ],
      "metadata": {
        "colab": {
          "base_uri": "https://localhost:8080/"
        },
        "id": "DTUCXDjROE7U",
        "outputId": "7ff17257-6c3a-4d0a-a011-b666ee125da1"
      },
      "execution_count": 105,
      "outputs": [
        {
          "output_type": "stream",
          "name": "stdout",
          "text": [
            "<class 'list'> 24\n",
            "<class 'tuple'> 720\n",
            "<class 'tuple'> 2520\n",
            "<class 'set'> 20700\n",
            "<class 'dict'> 1008\n",
            "<class 'list'> 1\n"
          ]
        }
      ]
    },
    {
      "cell_type": "code",
      "source": [
        "\n",
        "p.isalnum()"
      ],
      "metadata": {
        "colab": {
          "base_uri": "https://localhost:8080/"
        },
        "id": "onzpa5O4ORrw",
        "outputId": "4665725a-475c-46d9-ca4c-b846028d7301"
      },
      "execution_count": 93,
      "outputs": [
        {
          "output_type": "execute_result",
          "data": {
            "text/plain": [
              "True"
            ]
          },
          "metadata": {},
          "execution_count": 93
        }
      ]
    },
    {
      "cell_type": "code",
      "source": [
        ""
      ],
      "metadata": {
        "id": "HoqnUgT4OXen"
      },
      "execution_count": null,
      "outputs": []
    }
  ]
}