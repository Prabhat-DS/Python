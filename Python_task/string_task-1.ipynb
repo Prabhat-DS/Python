{
  "nbformat": 4,
  "nbformat_minor": 0,
  "metadata": {
    "colab": {
      "name": "string_task.ipynb",
      "provenance": [],
      "collapsed_sections": []
    },
    "kernelspec": {
      "name": "python3",
      "display_name": "Python 3"
    },
    "language_info": {
      "name": "python"
    }
  },
  "cells": [
    {
      "cell_type": "code",
      "execution_count": 1,
      "metadata": {
        "id": "eRM-8excwRL1"
      },
      "outputs": [],
      "source": [
        "# s = \"this is My First Python programming class and i am learNING python string and its function\"\n",
        "# 1 . Try to extract data from index one to index 300 with a jump of 3 \n",
        "# 2. Try to reverse a string without using reverse function \n",
        "# 3. Try to split a string after conversion of entire string in uppercase \n",
        "# 4. try to convert the whole string into lower case \n",
        "# 5 . Try to capitalize the whole string \n",
        "# 6 . Write a diference between isalnum() and isalpha()\n",
        "# 7. Try to give an example of expand tab\n",
        "# 8 . Give an example of strip , lstrip and rstrip \n",
        "# 9.  Replace a string charecter by another charector by taking your own example \n",
        "# \"sudhanshu\"\n",
        "# 10 . Try  to give a defination of string center function with and exmple \n",
        "# 11 . Write your own definition of compiler and interpretor without copy paste form internet in your own language\n",
        "# 12 . Python is a interpreted of compiled language give a clear ans with your understanding \n",
        "# 13 . Try to write a usecase of python with your understanding ."
      ]
    },
    {
      "cell_type": "code",
      "source": [
        "s = \"this is My First Python programming class and i am learNING python string and its function\""
      ],
      "metadata": {
        "id": "uPOipsSU4WTi"
      },
      "execution_count": 56,
      "outputs": []
    },
    {
      "cell_type": "code",
      "source": [
        "# 1 . Try to extract data from index one to index 300 with a jump of 3 \n",
        "s[0:300:3]"
      ],
      "metadata": {
        "colab": {
          "base_uri": "https://localhost:8080/",
          "height": 36
        },
        "id": "-CADm6IB4fHa",
        "outputId": "721aeb89-04a1-4aba-9cd4-7e49ef85ed02"
      },
      "execution_count": 4,
      "outputs": [
        {
          "output_type": "execute_result",
          "data": {
            "text/plain": [
              "'tssyityopgmncsa alrNph rgni ni'"
            ],
            "application/vnd.google.colaboratory.intrinsic+json": {
              "type": "string"
            }
          },
          "metadata": {},
          "execution_count": 4
        }
      ]
    },
    {
      "cell_type": "code",
      "source": [
        "# 2. Try to reverse a string without using reverse function \n",
        "s[-1::-1]\n",
        "# or\n",
        "s[::-1]"
      ],
      "metadata": {
        "colab": {
          "base_uri": "https://localhost:8080/",
          "height": 36
        },
        "id": "F9D-6c_P4oQv",
        "outputId": "c8016815-5105-489a-d407-befeaea72f8e"
      },
      "execution_count": 8,
      "outputs": [
        {
          "output_type": "execute_result",
          "data": {
            "text/plain": [
              "'noitcnuf sti dna gnirts nohtyp GNINrael ma i dna ssalc gnimmargorp nohtyP tsriF yM si siht'"
            ],
            "application/vnd.google.colaboratory.intrinsic+json": {
              "type": "string"
            }
          },
          "metadata": {},
          "execution_count": 8
        }
      ]
    },
    {
      "cell_type": "code",
      "source": [
        "# 3. Try to split a string after conversion of entire string in uppercase \n",
        "s1=s.upper()\n",
        "s1.split()"
      ],
      "metadata": {
        "colab": {
          "base_uri": "https://localhost:8080/"
        },
        "id": "KYP8F8c25C_-",
        "outputId": "99e3c790-e235-406d-fce4-3503448f7675"
      },
      "execution_count": 10,
      "outputs": [
        {
          "output_type": "execute_result",
          "data": {
            "text/plain": [
              "['THIS',\n",
              " 'IS',\n",
              " 'MY',\n",
              " 'FIRST',\n",
              " 'PYTHON',\n",
              " 'PROGRAMMING',\n",
              " 'CLASS',\n",
              " 'AND',\n",
              " 'I',\n",
              " 'AM',\n",
              " 'LEARNING',\n",
              " 'PYTHON',\n",
              " 'STRING',\n",
              " 'AND',\n",
              " 'ITS',\n",
              " 'FUNCTION']"
            ]
          },
          "metadata": {},
          "execution_count": 10
        }
      ]
    },
    {
      "cell_type": "code",
      "source": [
        "# 4. try to convert the whole string into lower case \n",
        "# 5 . Try to capitalize the whole string \n",
        "# 6 . Write a diference between isalnum() and isalpha()\n",
        "# 7. Try to give an example of expand tab\n",
        "# 8 . Give an example of strip , lstrip and rstrip \n",
        "# 9.  Replace a string charecter by another charector by taking your own example \n",
        "# \"sudhanshu\"\n",
        "# 10 . Try  to give a defination of string center function with and exmple \n",
        "# 11 . Write your own definition of compiler and interpretor without copy paste form internet in your own language\n",
        "# 12 . Python is a interpreted of compiled language give a clear ans with your understanding \n",
        "# 13 . Try to write a usecase of python with your understanding ."
      ],
      "metadata": {
        "id": "59DSuDLN51FP"
      },
      "execution_count": 11,
      "outputs": []
    },
    {
      "cell_type": "code",
      "source": [
        "s"
      ],
      "metadata": {
        "colab": {
          "base_uri": "https://localhost:8080/",
          "height": 36
        },
        "id": "u-p_YNG46CK6",
        "outputId": "22057f46-8a58-4612-df9f-d69e8df82431"
      },
      "execution_count": 12,
      "outputs": [
        {
          "output_type": "execute_result",
          "data": {
            "text/plain": [
              "'this is My First Python programming class and i am learNING python string and its function'"
            ],
            "application/vnd.google.colaboratory.intrinsic+json": {
              "type": "string"
            }
          },
          "metadata": {},
          "execution_count": 12
        }
      ]
    },
    {
      "cell_type": "code",
      "source": [
        "# 4. try to convert the whole string into lower case\n",
        "s.lower()\n"
      ],
      "metadata": {
        "colab": {
          "base_uri": "https://localhost:8080/",
          "height": 36
        },
        "id": "99Bt1AUH6DZd",
        "outputId": "05bb33cf-a7b4-4651-8cc4-90d027a688d5"
      },
      "execution_count": 20,
      "outputs": [
        {
          "output_type": "execute_result",
          "data": {
            "text/plain": [
              "'this is my first python programming class and i am learning python string and its function'"
            ],
            "application/vnd.google.colaboratory.intrinsic+json": {
              "type": "string"
            }
          },
          "metadata": {},
          "execution_count": 20
        }
      ]
    },
    {
      "cell_type": "code",
      "source": [
        "# 5 . Try to capitalize the whole string \n",
        "s3=s.capitalize()\n"
      ],
      "metadata": {
        "colab": {
          "base_uri": "https://localhost:8080/",
          "height": 36
        },
        "id": "cVcPjEVC6RjT",
        "outputId": "f234a448-6a99-4d9a-b165-2f60c1345ac5"
      },
      "execution_count": 21,
      "outputs": [
        {
          "output_type": "execute_result",
          "data": {
            "text/plain": [
              "'This is my first python programming class and i am learning python string and its function'"
            ],
            "application/vnd.google.colaboratory.intrinsic+json": {
              "type": "string"
            }
          },
          "metadata": {},
          "execution_count": 21
        }
      ]
    },
    {
      "cell_type": "code",
      "source": [
        ""
      ],
      "metadata": {
        "id": "COi332qQ6-K2"
      },
      "execution_count": 32,
      "outputs": []
    },
    {
      "cell_type": "code",
      "source": [
        "# 6 . Write a diference between isalnum() and isalpha()\n",
        "s2=\"sfsfsfeafaf\"\n",
        "s2.isalnum()"
      ],
      "metadata": {
        "colab": {
          "base_uri": "https://localhost:8080/"
        },
        "id": "7_gnvc9d6v-z",
        "outputId": "95444264-45c8-46a5-cc8d-1e6317467972"
      },
      "execution_count": 41,
      "outputs": [
        {
          "output_type": "execute_result",
          "data": {
            "text/plain": [
              "True"
            ]
          },
          "metadata": {},
          "execution_count": 41
        }
      ]
    },
    {
      "cell_type": "code",
      "source": [
        "s3= \"sfsfsg1231\"\n",
        "s2.isalpha()"
      ],
      "metadata": {
        "colab": {
          "base_uri": "https://localhost:8080/"
        },
        "id": "kHmj78DC7LoQ",
        "outputId": "91a5ed66-3d5a-42f1-d777-21a0abee7806"
      },
      "execution_count": 43,
      "outputs": [
        {
          "output_type": "execute_result",
          "data": {
            "text/plain": [
              "True"
            ]
          },
          "metadata": {},
          "execution_count": 43
        }
      ]
    },
    {
      "cell_type": "code",
      "source": [
        "# isalnum() return true when string contain latters.\n",
        "# isalpha() return true when string contain alphabetical numaric carector."
      ],
      "metadata": {
        "id": "cVe3-O_c7M3G"
      },
      "execution_count": 44,
      "outputs": []
    },
    {
      "cell_type": "code",
      "source": [
        "# 7. Try to give an example of expand tab\n",
        "# 8 . Give an example of strip , lstrip and rstrip \n",
        "# 9.  Replace a string charecter by another charector by taking your own example \n",
        "# \"sudhanshu\"\n",
        "# 10 . Try  to give a defination of string center function with and exmple \n",
        "# 11 . Write your own definition of compiler and interpretor without copy paste form internet in your own language\n",
        "# 12 . Python is a interpreted of compiled language give a clear ans with your understanding \n",
        "# 13 . Try to write a usecase of python with your understanding ."
      ],
      "metadata": {
        "id": "d4chrMQH9thB"
      },
      "execution_count": 45,
      "outputs": []
    },
    {
      "cell_type": "code",
      "source": [
        "# 7. Try to give an example of expand tab\n",
        "s1=\"qwerty\\tasdfg\\tasddffx\"\n",
        "s1.expandtabs()"
      ],
      "metadata": {
        "colab": {
          "base_uri": "https://localhost:8080/",
          "height": 36
        },
        "id": "smuhf18N92qz",
        "outputId": "986c840f-0d84-4dc2-9a1a-4d84fb9b2a26"
      },
      "execution_count": 54,
      "outputs": [
        {
          "output_type": "execute_result",
          "data": {
            "text/plain": [
              "'qwerty  asdfg   asddffx'"
            ],
            "application/vnd.google.colaboratory.intrinsic+json": {
              "type": "string"
            }
          },
          "metadata": {},
          "execution_count": 54
        }
      ]
    },
    {
      "cell_type": "code",
      "source": [
        "# 8 . Give an example of strip , lstrip and rstrip \n",
        "p= \"                    adsafsfdsgd                                       \"\n",
        "p.split()"
      ],
      "metadata": {
        "colab": {
          "base_uri": "https://localhost:8080/"
        },
        "id": "kw0kzYxP-GVg",
        "outputId": "cdf67cbe-5223-467b-c068-0d6d8e44ea8e"
      },
      "execution_count": 51,
      "outputs": [
        {
          "output_type": "execute_result",
          "data": {
            "text/plain": [
              "['adsafsfdsgd']"
            ]
          },
          "metadata": {},
          "execution_count": 51
        }
      ]
    },
    {
      "cell_type": "code",
      "source": [
        "p.lstrip()"
      ],
      "metadata": {
        "colab": {
          "base_uri": "https://localhost:8080/",
          "height": 36
        },
        "id": "EOJyhsIa-lgG",
        "outputId": "d9f81a10-a264-47bd-a55c-afacf8c0c043"
      },
      "execution_count": 52,
      "outputs": [
        {
          "output_type": "execute_result",
          "data": {
            "text/plain": [
              "'adsafsfdsgd                                       '"
            ],
            "application/vnd.google.colaboratory.intrinsic+json": {
              "type": "string"
            }
          },
          "metadata": {},
          "execution_count": 52
        }
      ]
    },
    {
      "cell_type": "code",
      "source": [
        "p.rstrip()"
      ],
      "metadata": {
        "colab": {
          "base_uri": "https://localhost:8080/",
          "height": 36
        },
        "id": "iGZ-9itU-pUf",
        "outputId": "1e22ecc5-a6ea-4cc5-ac85-7e1e1c2c22fd"
      },
      "execution_count": 53,
      "outputs": [
        {
          "output_type": "execute_result",
          "data": {
            "text/plain": [
              "'                    adsafsfdsgd'"
            ],
            "application/vnd.google.colaboratory.intrinsic+json": {
              "type": "string"
            }
          },
          "metadata": {},
          "execution_count": 53
        }
      ]
    },
    {
      "cell_type": "code",
      "source": [
        "s"
      ],
      "metadata": {
        "colab": {
          "base_uri": "https://localhost:8080/",
          "height": 36
        },
        "id": "iozXXHUm-urf",
        "outputId": "2bf9446e-720e-46fc-cb1e-3e7d84ef3899"
      },
      "execution_count": 70,
      "outputs": [
        {
          "output_type": "execute_result",
          "data": {
            "text/plain": [
              "'this is My First Python programming class and i am learNING python string and its function'"
            ],
            "application/vnd.google.colaboratory.intrinsic+json": {
              "type": "string"
            }
          },
          "metadata": {},
          "execution_count": 70
        }
      ]
    },
    {
      "cell_type": "code",
      "source": [
        "# 9.  Replace a string charecter by another charector by taking your own example \n",
        "# \"sudhanshu\"\n",
        "s.replace(\"My\",\"sudhanshu\")"
      ],
      "metadata": {
        "colab": {
          "base_uri": "https://localhost:8080/",
          "height": 36
        },
        "id": "wRi2o4Px-5YJ",
        "outputId": "58d3d03e-cd0a-41d8-f50e-da12bec76a41"
      },
      "execution_count": 66,
      "outputs": [
        {
          "output_type": "execute_result",
          "data": {
            "text/plain": [
              "'this is sudhanshu First Python programming class and i am learNING python string and its function'"
            ],
            "application/vnd.google.colaboratory.intrinsic+json": {
              "type": "string"
            }
          },
          "metadata": {},
          "execution_count": 66
        }
      ]
    },
    {
      "cell_type": "code",
      "source": [
        "# 10 . Try  to give a defination of string center function with and exmple \n",
        "# 11 . Write your own definition of compiler and interpretor without copy paste form internet in your own language\n",
        "# 12 . Python is a interpreted of compiled language give a clear ans with your understanding \n",
        "# 13 . Try to write a usecase of python with your understanding ."
      ],
      "metadata": {
        "id": "2RshmZCG_XLL"
      },
      "execution_count": 67,
      "outputs": []
    },
    {
      "cell_type": "code",
      "source": [
        "# 10 . Try  to give a defination of string center function with and exmple \n",
        "s2=\"sfsgsgdgdg\"\n",
        "s2.center(100)"
      ],
      "metadata": {
        "colab": {
          "base_uri": "https://localhost:8080/",
          "height": 36
        },
        "id": "uD7q2zUn_woM",
        "outputId": "2d3ffc38-c9a4-4a19-ccb1-d6f1d9e2740e"
      },
      "execution_count": 69,
      "outputs": [
        {
          "output_type": "execute_result",
          "data": {
            "text/plain": [
              "'                                             sfsgsgdgdg                                             '"
            ],
            "application/vnd.google.colaboratory.intrinsic+json": {
              "type": "string"
            }
          },
          "metadata": {},
          "execution_count": 69
        }
      ]
    },
    {
      "cell_type": "code",
      "source": [
        "# string center function return the string value at the center of the length pass on the function\n",
        "# syntex :\n",
        "# string_variable_name.center(length_number)\n"
      ],
      "metadata": {
        "id": "P7F9sWsi_354"
      },
      "execution_count": 71,
      "outputs": []
    },
    {
      "cell_type": "code",
      "source": [
        "# 11 . Write your own definition of compiler and interpretor without copy paste form internet in your own language.\n",
        "'''compiler:-  covert programming language(sorce code or high level laguage) to machine level language(bite code or low level laguage) complete code in one run. it is fast.\n",
        "            \n",
        "interpretor:- it also convet source code to machine level langwage but it exicute line by line.it is slow.'''\n"
      ],
      "metadata": {
        "colab": {
          "base_uri": "https://localhost:8080/",
          "height": 55
        },
        "id": "xLg2KH3LBW2i",
        "outputId": "f3d5149e-5623-4fd8-bd52-e182e836501b"
      },
      "execution_count": 72,
      "outputs": [
        {
          "output_type": "execute_result",
          "data": {
            "text/plain": [
              "'compiler:-  covert programming language(sorce code or high level laguage) to machine level language(bite code or low level laguage) complete code in one run. it is fast.\\n            \\ninterpretor:- it also convet source code to machine level langwage but it exicute line by line.it is slow.'"
            ],
            "application/vnd.google.colaboratory.intrinsic+json": {
              "type": "string"
            }
          },
          "metadata": {},
          "execution_count": 72
        }
      ]
    },
    {
      "cell_type": "code",
      "source": [
        "# 12 . Python is a interpreted of compiled language give a clear ans with your understanding \n",
        "'''python is a interpreted langwage. But it work on both compiler and interpreter'''\n"
      ],
      "metadata": {
        "colab": {
          "base_uri": "https://localhost:8080/",
          "height": 36
        },
        "id": "EKoCenjmEYoX",
        "outputId": "48617ee5-a0e3-4d30-bfa7-663287006f23"
      },
      "execution_count": 73,
      "outputs": [
        {
          "output_type": "execute_result",
          "data": {
            "text/plain": [
              "'python is a interpreted langwage. But it work on both compiler and interpreter'"
            ],
            "application/vnd.google.colaboratory.intrinsic+json": {
              "type": "string"
            }
          },
          "metadata": {},
          "execution_count": 73
        }
      ]
    },
    {
      "cell_type": "code",
      "source": [
        "# 13 . Try to write a usecase of python with your understanding .\n",
        "Data science\n",
        "data analytics\n",
        "web devlopment\n",
        "software dev\n",
        "AI\n",
        "ML\n",
        "etc.."
      ],
      "metadata": {
        "id": "uUhQiiJzFJDu"
      },
      "execution_count": null,
      "outputs": []
    }
  ]
}