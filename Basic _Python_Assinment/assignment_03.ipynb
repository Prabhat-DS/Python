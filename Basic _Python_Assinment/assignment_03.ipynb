{
 "cells": [
  {
   "cell_type": "markdown",
   "metadata": {
    "id": "sNWHXcwiIxWx"
   },
   "source": [
    "# 1. Why are functions advantageous to have in your programs?\n",
    "'''Ans. Advantage of using function in our program:\n",
    "1.\tDecomposing complex program to a simpler piece:\n",
    "By using function, we convert the complex and large piece of code to a single function name.\n",
    " which we try to call multiple number of times instead of writing the same code multiple time. It makes our program easy and simple. \n",
    "  \n",
    "2.\tReducing Coding Time: \n",
    "We define the function ones and use to call the function name multiple time instead of rewriting the same code multiple times. It reduces the coding time.\n",
    "\n",
    "3.\tReducing debugging time:\n",
    "If we put the same code at multiple places, it is difficult to make debugging change to all the places.\n",
    " If we change the code to one place and failed change in other places it will be very easy to be confuse.  \n",
    "\n",
    "4.\tEasy maintenance:\n",
    "If the programmer uses to define the function it is very easy to understand and make the changes.\n",
    " But if the programmer uses to write the code in multiple places, then is harder to understand, then it will take more time to understand, hence it will be harder to maintain.\n",
    "'''\n"
   ]
  },
  {
   "cell_type": "markdown",
   "metadata": {
    "colab": {
     "base_uri": "https://localhost:8080/",
     "height": 135
    },
    "id": "Yyfef5_NJB3C",
    "outputId": "ca71725f-eb3d-4ed4-f0be-34b26a57c9bf"
   },
   "source": [
    "# 2. When does the code in a function run: when it's specified or when it's called?\n",
    "'''Ans.\n",
    "a.\tFunction specified by the programmer. The programmer define the statements in the block of function must be indented. \n",
    "It is specified when there is the probability to use the  particular code multiple times. '''\n",
    "# Syntax:-\n",
    "def function_name():\n",
    "\t\t<statements>\n",
    "    \n",
    "'''b.\tFunction call:- function is called when it is  need to use the particular code specified inside the function.\n",
    "c.\t Function run:- when we call the function then  only it run and give the result. '''"
   ]
  },
  {
   "cell_type": "markdown",
   "metadata": {
    "id": "1wphC3t9JMDS"
   },
   "source": [
    "# 3. What statement creates a function?\n",
    "'''Ans. Function is created by using the  def key.\n",
    "\tdef function_name():\n",
    "\t\t<statements>\n",
    "'''\n"
   ]
  },
  {
   "cell_type": "markdown",
   "metadata": {
    "id": "14S6OPkhJNIW"
   },
   "source": [
    "\n",
    "# 4. What is the difference between a function and a function call?\n",
    "'''Ans. Function is the block of code use for do the particular oeration and give the result.\n",
    "It accept the input as parameter and return the result.A function call is the code to pass the control to the function.\n",
    "Until the function is not called , the function will not execute.\n",
    "'''"
   ]
  },
  {
   "cell_type": "markdown",
   "metadata": {},
   "source": [
    "# 5. How many global scopes are there in a Python program? How many local scopes?\n",
    "# Ans.  \n",
    "'''Globle scope: There are one global scopes in which we define the variable or name at the top lable of the program,\n",
    "its scope ends when the program ends.it can be call in local and global scope both.\n",
    " we can’t modifie global variable in local scope. \n",
    "\n",
    "Local scope : there are one local scope also. Local variable define inside the current function called as local scope.\n",
    " Scope of the local variable ends with the ends of the function.'''\n"
   ]
  },
  {
   "cell_type": "code",
   "execution_count": 1,
   "metadata": {
    "colab": {
     "base_uri": "https://localhost:8080/",
     "height": 135
    },
    "id": "4aJl9Gr3JUvv",
    "outputId": "3c8edd59-1f21-4864-813c-46219eb80952"
   },
   "outputs": [
    {
     "name": "stdout",
     "output_type": "stream",
     "text": [
      "print gobal value in local x:  2\n",
      "print local value x:  3\n",
      "global x:  2\n"
     ]
    }
   ],
   "source": [
    "x=2 #-------------->global variable in global scope\n",
    "def local_fun():\n",
    "  y=3  #-------------->local variable in local scope of local_fun().\n",
    "  print(\"print gobal value in local x: \",x)  #-------------->global variable acn be call in local scope\n",
    "  print(\"print local value x: \",y)\n",
    "\n",
    "local_fun() #----------------->fun call.\n",
    "print(\"global x: \",x)\n",
    "\n"
   ]
  },
  {
   "cell_type": "markdown",
   "metadata": {
    "id": "vdrGHTA5JVg7"
   },
   "source": [
    "\n",
    "# 6. What happens to variables in a local scope when the function call returns?\n",
    "# Ans.\n",
    "'''\n",
    "local variables will be destroyed when the function call returns. or we can say the local scope will \n",
    "be codeless when the function call returns.\n",
    "'''\n",
    "\n"
   ]
  },
  {
   "cell_type": "code",
   "execution_count": null,
   "metadata": {},
   "outputs": [],
   "source": [
    "\n",
    "# 12. If you had a bacon() feature in a spam module, what would you call it after importing spam?\n",
    "# 13. What can you do to save a programme from crashing if it encounters an error?\n",
    "# 14. What is the purpose of the try clause? What is the purpose of the except clause?"
   ]
  },
  {
   "cell_type": "markdown",
   "metadata": {},
   "source": [
    "# 7. What is the concept of a return value? Is it possible to have a return value in an expression?\n",
    "# Ans.\n",
    "'''\n",
    "Any function exection done on three deffrent stages, first it take the arguments(if any), then perform some task\n",
    "and at last return result(value) to the call script. Any function return the value when it call. \n",
    "\n",
    "yes , it is posible to have a return value in an expration.\n",
    "'''"
   ]
  },
  {
   "cell_type": "markdown",
   "metadata": {},
   "source": [
    "# 8. If a function does not have a return statement, what is the return value of a call to that function?\n",
    "# Ans.\n",
    "'''\n",
    "If a function does not have a return statement, it will automaticaly return to the colling function after the \n",
    "last statment of the called fun is exection. Return value of call to that function will be default value. \n",
    "And default value in python is 'None'."
   ]
  },
  {
   "cell_type": "code",
   "execution_count": 17,
   "metadata": {},
   "outputs": [
    {
     "name": "stdout",
     "output_type": "stream",
     "text": [
      "9\n",
      "9\n"
     ]
    },
    {
     "data": {
      "text/plain": [
       "NoneType"
      ]
     },
     "execution_count": 17,
     "metadata": {},
     "output_type": "execute_result"
    }
   ],
   "source": [
    "\n",
    "'''\n",
    "def no_return():\n",
    "    x=4\n",
    "    y=5\n",
    "    print(x+y)\n",
    "no_return()  \n",
    "type(no_return() )"
   ]
  },
  {
   "cell_type": "markdown",
   "metadata": {},
   "source": [
    "# 9. How do you make a function variable refer to the global variable?\n",
    "# Ans.\n",
    "'''\n",
    "by using the keyword global we can define the globle vriable inside the local function.\n",
    "'''"
   ]
  },
  {
   "cell_type": "code",
   "execution_count": null,
   "metadata": {},
   "outputs": [],
   "source": [
    "x=4\n",
    "def loc_fun():\n",
    "    global x\n",
    "    x=x+1\n",
    "    print(x)\n",
    "loc_fun()"
   ]
  },
  {
   "cell_type": "markdown",
   "metadata": {},
   "source": [
    "# 10. What is the data type of None?\n",
    "# Ans."
   ]
  },
  {
   "cell_type": "code",
   "execution_count": 14,
   "metadata": {},
   "outputs": [
    {
     "data": {
      "text/plain": [
       "NoneType"
      ]
     },
     "execution_count": 14,
     "metadata": {},
     "output_type": "execute_result"
    }
   ],
   "source": [
    "type(None)  \n",
    "\n",
    "'''data type of None is NoneType'''"
   ]
  },
  {
   "cell_type": "markdown",
   "metadata": {},
   "source": [
    "# 11. What does the sentence import areallyourpetsnamederic do?\n",
    "# Ans."
   ]
  },
  {
   "cell_type": "code",
   "execution_count": 4,
   "metadata": {},
   "outputs": [
    {
     "ename": "ModuleNotFoundError",
     "evalue": "No module named 'areallyourpetsnamederic'",
     "output_type": "error",
     "traceback": [
      "\u001b[1;31m---------------------------------------------------------------------------\u001b[0m",
      "\u001b[1;31mModuleNotFoundError\u001b[0m                       Traceback (most recent call last)",
      "\u001b[1;32mC:\\Users\\PRABHA~1\\AppData\\Local\\Temp/ipykernel_15412/305520004.py\u001b[0m in \u001b[0;36m<module>\u001b[1;34m\u001b[0m\n\u001b[1;32m----> 1\u001b[1;33m \u001b[1;32mimport\u001b[0m \u001b[0mareallyourpetsnamederic\u001b[0m\u001b[1;33m\u001b[0m\u001b[1;33m\u001b[0m\u001b[0m\n\u001b[0m\u001b[0;32m      2\u001b[0m '''\n\u001b[0;32m      3\u001b[0m \u001b[1;32mimport\u001b[0m \u001b[0mareallyourpetsnamederic\u001b[0m\u001b[1;33m-\u001b[0m \u001b[0mthis\u001b[0m \u001b[0mstatment\u001b[0m \u001b[1;32mimport\u001b[0m \u001b[0mthe\u001b[0m \u001b[0mareallyourpetsnamederic\u001b[0m \u001b[0mmodule\u001b[0m\u001b[1;33m.\u001b[0m\u001b[1;33m\u001b[0m\u001b[1;33m\u001b[0m\u001b[0m\n\u001b[0;32m      4\u001b[0m '''\n",
      "\u001b[1;31mModuleNotFoundError\u001b[0m: No module named 'areallyourpetsnamederic'"
     ]
    }
   ],
   "source": [
    "import areallyourpetsnamederic\n",
    "'''\n",
    "import areallyourpetsnamederic- this statment import the areallyourpetsnamederic module.\n",
    "'''"
   ]
  },
  {
   "cell_type": "code",
   "execution_count": 6,
   "metadata": {},
   "outputs": [
    {
     "name": "stderr",
     "output_type": "stream",
     "text": [
      "WARNING: Retrying (Retry(total=4, connect=None, read=None, redirect=None, status=None)) after connection broken by 'NewConnectionError('<pip._vendor.urllib3.connection.HTTPSConnection object at 0x000002278F4023A0>: Failed to establish a new connection: [Errno 11001] getaddrinfo failed')': /simple/automateboringstuff/\n",
      "WARNING: Retrying (Retry(total=3, connect=None, read=None, redirect=None, status=None)) after connection broken by 'NewConnectionError('<pip._vendor.urllib3.connection.HTTPSConnection object at 0x000002278F402C10>: Failed to establish a new connection: [Errno 11001] getaddrinfo failed')': /simple/automateboringstuff/\n",
      "WARNING: Retrying (Retry(total=2, connect=None, read=None, redirect=None, status=None)) after connection broken by 'NewConnectionError('<pip._vendor.urllib3.connection.HTTPSConnection object at 0x000002278F402E20>: Failed to establish a new connection: [Errno 11001] getaddrinfo failed')': /simple/automateboringstuff/\n",
      "WARNING: Retrying (Retry(total=1, connect=None, read=None, redirect=None, status=None)) after connection broken by 'NewConnectionError('<pip._vendor.urllib3.connection.HTTPSConnection object at 0x000002278F402FD0>: Failed to establish a new connection: [Errno 11001] getaddrinfo failed')': /simple/automateboringstuff/\n",
      "WARNING: Retrying (Retry(total=0, connect=None, read=None, redirect=None, status=None)) after connection broken by 'NewConnectionError('<pip._vendor.urllib3.connection.HTTPSConnection object at 0x000002278F42A1C0>: Failed to establish a new connection: [Errno 11001] getaddrinfo failed')': /simple/automateboringstuff/\n",
      "ERROR: Could not find a version that satisfies the requirement automateboringstuff (from versions: none)\n",
      "ERROR: No matching distribution found for automateboringstuff\n"
     ]
    }
   ],
   "source": [
    "!pip install automateboringstuff"
   ]
  },
  {
   "cell_type": "code",
   "execution_count": null,
   "metadata": {},
   "outputs": [],
   "source": []
  },
  {
   "cell_type": "markdown",
   "metadata": {},
   "source": [
    "# 12. If you had a bacon() feature in a spam module, what would you call it after importing spam?"
   ]
  },
  {
   "cell_type": "raw",
   "metadata": {},
   "source": [
    "Ans.\n",
    "\n",
    "import spam\n",
    "\n",
    "# to call of bacon():-\n",
    "spam.bacon()\n"
   ]
  },
  {
   "cell_type": "markdown",
   "metadata": {},
   "source": [
    "# 13. What can you do to save a programme from crashing if it encounters an error?\n",
    "Ans.\n",
    "we use Exceptions Handling to save a programme from crashing if it enconters an error.\n",
    "In Python, we use the try and except statements to handle exceptions.\n",
    "Python would process all code inside the try and except statement. When it encounters an error, the control is passed to the except block, skipping the code in between.\n",
    "Try run the program and it should throw an error message instead of crashing the program."
   ]
  },
  {
   "cell_type": "markdown",
   "metadata": {},
   "source": [
    "# 14. What is the purpose of the try clause? What is the purpose of the except clause?\n"
   ]
  },
  {
   "cell_type": "code",
   "execution_count": 3,
   "metadata": {},
   "outputs": [
    {
     "name": "stdout",
     "output_type": "stream",
     "text": [
      "Error occurred : can only concatenate str (not \"int\") to str\n"
     ]
    }
   ],
   "source": [
    "def addNum(a, b):\n",
    "    try:\n",
    "        return a + b\n",
    "    except Exception as e:\n",
    "        return 'Error occurred : ' + str(e)\n",
    "  \n",
    "print(addNum('a', 10))"
   ]
  },
  {
   "cell_type": "markdown",
   "metadata": {},
   "source": [
    "Ans.\n",
    "try clause use to run the program and if their is any error it will through the error message by except clause. \n",
    "The try block test a block of code for errors. The except block handle the error."
   ]
  },
  {
   "cell_type": "code",
   "execution_count": null,
   "metadata": {},
   "outputs": [],
   "source": []
  }
 ],
 "metadata": {
  "colab": {
   "name": "assignment-03.ipynb",
   "provenance": []
  },
  "kernelspec": {
   "display_name": "Python 3 (ipykernel)",
   "language": "python",
   "name": "python3"
  },
  "language_info": {
   "codemirror_mode": {
    "name": "ipython",
    "version": 3
   },
   "file_extension": ".py",
   "mimetype": "text/x-python",
   "name": "python",
   "nbconvert_exporter": "python",
   "pygments_lexer": "ipython3",
   "version": "3.9.7"
  }
 },
 "nbformat": 4,
 "nbformat_minor": 1
}
