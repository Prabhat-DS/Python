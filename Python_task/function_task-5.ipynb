{
  "nbformat": 4,
  "nbformat_minor": 0,
  "metadata": {
    "colab": {
      "name": "function_task.ipynb",
      "provenance": [],
      "collapsed_sections": []
    },
    "kernelspec": {
      "name": "python3",
      "display_name": "Python 3"
    },
    "language_info": {
      "name": "python"
    }
  },
  "cells": [
    {
      "cell_type": "code",
      "execution_count": 3,
      "metadata": {
        "id": "AEHao2PJ1Xlw"
      },
      "outputs": [],
      "source": [
        "# function task :\n",
        "#     q1 : Try to print a prime number in between 1 to 1000\n",
        "#     q2 : Try to write a function which  is equivalent  to print function in python\n",
        "#     q3 : Try to write a function which is a replica of list append , extend and pop function \n",
        "#     q4 : Try to write a lambda function which can return a concatination of all the string that we will pass\n",
        "#     q5 : Try to write a lambda function which can return list of square of all the data between 1-100 \n",
        "#     q6 : Try to write a 10 Different different example of lambda function with a choice of your taks \n",
        "#     q7 : Try to wwrite a funtion whihc can perform a read operation from .txt file \n",
        "        \n",
        "#         shivan@ineuron.ai\n",
        "#         sudhashu@ineuron.ai"
      ]
    },
    {
      "cell_type": "code",
      "source": [
        "#     q1 : Try to print a prime number in between 1 to 1000\n",
        "l=[]\n",
        "def prime(a):\n",
        "  for num in range(1,a + 1):\n",
        "    if num > 1:\n",
        "        for i in range(2,num):\n",
        "            if (num % i) == 0:\n",
        "                break\n",
        "        else:\n",
        "            l.append(num)\n",
        "  print(l)\n",
        "  \n",
        "\n"
      ],
      "metadata": {
        "id": "AUPA37ba4cMT"
      },
      "execution_count": 14,
      "outputs": []
    },
    {
      "cell_type": "code",
      "source": [
        "prime(1000)"
      ],
      "metadata": {
        "colab": {
          "base_uri": "https://localhost:8080/"
        },
        "id": "UHupY6Fz4ho7",
        "outputId": "fc46505b-2694-4ab9-fc82-18fd211e8c69"
      },
      "execution_count": 15,
      "outputs": [
        {
          "output_type": "stream",
          "name": "stdout",
          "text": [
            "[2, 3, 5, 7, 11, 13, 17, 19, 23, 29, 31, 37, 41, 43, 47, 53, 59, 61, 67, 71, 73, 79, 83, 89, 97, 101, 103, 107, 109, 113, 127, 131, 137, 139, 149, 151, 157, 163, 167, 173, 179, 181, 191, 193, 197, 199, 211, 223, 227, 229, 233, 239, 241, 251, 257, 263, 269, 271, 277, 281, 283, 293, 307, 311, 313, 317, 331, 337, 347, 349, 353, 359, 367, 373, 379, 383, 389, 397, 401, 409, 419, 421, 431, 433, 439, 443, 449, 457, 461, 463, 467, 479, 487, 491, 499, 503, 509, 521, 523, 541, 547, 557, 563, 569, 571, 577, 587, 593, 599, 601, 607, 613, 617, 619, 631, 641, 643, 647, 653, 659, 661, 673, 677, 683, 691, 701, 709, 719, 727, 733, 739, 743, 751, 757, 761, 769, 773, 787, 797, 809, 811, 821, 823, 827, 829, 839, 853, 857, 859, 863, 877, 881, 883, 887, 907, 911, 919, 929, 937, 941, 947, 953, 967, 971, 977, 983, 991, 997]\n"
          ]
        }
      ]
    },
    {
      "cell_type": "code",
      "source": [
        "#     q2 : Try to write a function which  is equivalent  to print function in python\n",
        "\n",
        "import sys\n",
        "pr = lambda pr: sys.stdout.write(''.join(pr))\n",
        "pr('hello')\n",
        "pr(\"asdhgasd\")"
      ],
      "metadata": {
        "colab": {
          "base_uri": "https://localhost:8080/"
        },
        "id": "YllzBIHc4tvI",
        "outputId": "d88e0211-1919-4ea7-8a70-289c4fd269a3"
      },
      "execution_count": 36,
      "outputs": [
        {
          "output_type": "stream",
          "name": "stdout",
          "text": [
            "helloasdhgasd"
          ]
        }
      ]
    },
    {
      "cell_type": "code",
      "source": [
        "x(\"hgj\")"
      ],
      "metadata": {
        "colab": {
          "base_uri": "https://localhost:8080/"
        },
        "id": "l-c_6t5M43Zm",
        "outputId": "b59ec89e-ab0a-4d81-d8af-fa2503134d6c"
      },
      "execution_count": 22,
      "outputs": [
        {
          "output_type": "stream",
          "name": "stdout",
          "text": [
            "hgj"
          ]
        }
      ]
    },
    {
      "cell_type": "code",
      "source": [
        "# printq3 : Try to write a function which is a replica of list append , extend and pop function \n",
        "l = [1,2,3,5]\n",
        "l1= [4,5,6,8]\n",
        "print(len(l))\n",
        "def ap(a):\n",
        "  l.append(int(input(\"any number u want to append in list l: \")))\n",
        "  print(l)\n",
        "  l.extend(l1)\n",
        "  print(l)\n",
        "  print(l.pop(int(input(\"enter the number u want to remove from list: \"))))\n",
        "  "
      ],
      "metadata": {
        "colab": {
          "base_uri": "https://localhost:8080/"
        },
        "id": "w2gAOBvd484E",
        "outputId": "4fca40d1-d9dd-429a-d0fd-1928088eedf6"
      },
      "execution_count": 60,
      "outputs": [
        {
          "output_type": "stream",
          "name": "stdout",
          "text": [
            "4\n"
          ]
        }
      ]
    },
    {
      "cell_type": "code",
      "source": [
        "ap(l)"
      ],
      "metadata": {
        "colab": {
          "base_uri": "https://localhost:8080/"
        },
        "id": "S8OaA2sw5CDr",
        "outputId": "d880ad01-a9c3-4e49-93ff-e24e42037ce1"
      },
      "execution_count": 61,
      "outputs": [
        {
          "output_type": "stream",
          "name": "stdout",
          "text": [
            "any number: 2\n",
            "[1, 2, 3, 5, 2]\n",
            "[1, 2, 3, 5, 2, 4, 5, 6, 8]\n",
            "enter the number u want to remove from list: 2\n",
            "3\n"
          ]
        }
      ]
    },
    {
      "cell_type": "code",
      "source": [
        "l = [1,2,3,5]\n",
        "l.append(2)\n",
        "print(l)\n",
        "l1= [4,5,6,8]\n",
        "l.extend(l1)\n",
        "print(l)\n",
        "print(l.pop(2))"
      ],
      "metadata": {
        "colab": {
          "base_uri": "https://localhost:8080/"
        },
        "id": "bbs8K5aa9NqC",
        "outputId": "d55c848f-96de-4887-93b0-57bf2aabbb3a"
      },
      "execution_count": 62,
      "outputs": [
        {
          "output_type": "stream",
          "name": "stdout",
          "text": [
            "[1, 2, 3, 5, 2]\n",
            "[1, 2, 3, 5, 2, 4, 5, 6, 8]\n",
            "3\n"
          ]
        }
      ]
    },
    {
      "cell_type": "code",
      "source": [
        "# q4 : Try to write a lambda function which can return a concatination of all the string that we will pass\n",
        "# Concatenation, in the context of programming, is the operation of joining two strings together.\n",
        "\n",
        "con= lambda *a: ''.join(a)\n",
        "con(\"shdaskdgksa\"+\"kumar\")"
      ],
      "metadata": {
        "colab": {
          "base_uri": "https://localhost:8080/",
          "height": 35
        },
        "id": "4M6xktav9Tcp",
        "outputId": "0a6b3b44-2cbf-4a46-fa18-e51fed10e806"
      },
      "execution_count": 69,
      "outputs": [
        {
          "output_type": "execute_result",
          "data": {
            "text/plain": [
              "'shdaskdgksakumar'"
            ],
            "application/vnd.google.colaboratory.intrinsic+json": {
              "type": "string"
            }
          },
          "metadata": {},
          "execution_count": 69
        }
      ]
    },
    {
      "cell_type": "code",
      "source": [
        "# Concatenation, in the context of programming, is the operation of joining two strings together. it is done by using '+' sign.\n",
        "p=\"fjfjhg\"\n",
        "o=\"kumar\"\n",
        "print(p+o)"
      ],
      "metadata": {
        "colab": {
          "base_uri": "https://localhost:8080/"
        },
        "id": "9qbPj7C0Ik39",
        "outputId": "37324505-344c-471a-9a83-4c8230e3afad"
      },
      "execution_count": 66,
      "outputs": [
        {
          "output_type": "stream",
          "name": "stdout",
          "text": [
            "fjfjhgkumar\n"
          ]
        }
      ]
    },
    {
      "cell_type": "code",
      "source": [
        "#     q5 : Try to write a lambda function which can return list of square of all the data between 1-100 \n",
        "#     q6 : Try to write a 10 Different different example of lambda function with a choice of your taks \n",
        "#     q7 : Try to wwrite a funtion whihc can perform a read operation from .txt file \n",
        "        "
      ],
      "metadata": {
        "id": "wih0MRJKIm5M"
      },
      "execution_count": 70,
      "outputs": []
    },
    {
      "cell_type": "code",
      "source": [
        "#     q5 : Try to write a lambda function which can return list of square of all the data between 1-100 \n",
        "sqr=lambda a: print(a*a)\n",
        "l=[2,3,5,8,22,33,44,55,66,88,98,100,102,105,200,500,1000]\n",
        "for i in l :\n",
        "  if i<=100:\n",
        "    sqr(i)"
      ],
      "metadata": {
        "colab": {
          "base_uri": "https://localhost:8080/"
        },
        "id": "fIsOFt57Ki7D",
        "outputId": "ddb417cf-c123-4a22-bd0d-8121f596e5dd"
      },
      "execution_count": 74,
      "outputs": [
        {
          "output_type": "stream",
          "name": "stdout",
          "text": [
            "4\n",
            "9\n",
            "25\n",
            "64\n",
            "484\n",
            "1089\n",
            "1936\n",
            "3025\n",
            "4356\n",
            "7744\n",
            "9604\n",
            "10000\n"
          ]
        }
      ]
    },
    {
      "cell_type": "code",
      "source": [
        "#     q6 : Try to write a 10 Different different example of lambda function with a choice of your taks \n",
        "a1=lambda a: a+10\n",
        "a2=lambda **x : x\n",
        "a3=lambda x : x**2\n",
        "a4 = lambda x : pow(x,x) + x**2\n",
        "a5 = lambda x : chr(x)\n",
        "a6 = lambda x,y : x**y\n",
        "a7 = lambda *x : ''.join(x)\n",
        "a8 = lambda *x : [i**i for i in x ]\n",
        "a9 = lambda *x : [i*2 != 0 for i in x]\n",
        "a10 = lambda *x : [i>1000 for i in x]\n"
      ],
      "metadata": {
        "id": "8m86X3lELNh3"
      },
      "execution_count": 97,
      "outputs": []
    },
    {
      "cell_type": "code",
      "source": [
        "a8(5)"
      ],
      "metadata": {
        "colab": {
          "base_uri": "https://localhost:8080/"
        },
        "id": "TsxuNGNqNwqM",
        "outputId": "101d5acb-162c-496c-9e0b-0c7ce167a1a6"
      },
      "execution_count": 104,
      "outputs": [
        {
          "output_type": "execute_result",
          "data": {
            "text/plain": [
              "[3125]"
            ]
          },
          "metadata": {},
          "execution_count": 104
        }
      ]
    },
    {
      "cell_type": "code",
      "source": [
        "    #  q7 : Try to write a funtion whihc can perform a read operation from .txt file\n",
        "    import os\n",
        "    readtxt= lambda x : (open(x)).readline\n",
        "    readtxt(\"hello.txt\")\n"
      ],
      "metadata": {
        "colab": {
          "base_uri": "https://localhost:8080/",
          "height": 304
        },
        "id": "h5iH7pGbOVZv",
        "outputId": "59e3494f-d63e-4f52-a0eb-b5f9fa6f647a"
      },
      "execution_count": 108,
      "outputs": [
        {
          "output_type": "error",
          "ename": "FileNotFoundError",
          "evalue": "ignored",
          "traceback": [
            "\u001b[0;31m---------------------------------------------------------------------------\u001b[0m",
            "\u001b[0;31mFileNotFoundError\u001b[0m                         Traceback (most recent call last)",
            "\u001b[0;32m<ipython-input-108-5a76cb4b1934>\u001b[0m in \u001b[0;36m<module>\u001b[0;34m()\u001b[0m\n\u001b[1;32m      2\u001b[0m \u001b[0;32mimport\u001b[0m \u001b[0mos\u001b[0m\u001b[0;34m\u001b[0m\u001b[0;34m\u001b[0m\u001b[0m\n\u001b[1;32m      3\u001b[0m \u001b[0mreadtxt\u001b[0m\u001b[0;34m=\u001b[0m \u001b[0;32mlambda\u001b[0m \u001b[0mx\u001b[0m \u001b[0;34m:\u001b[0m \u001b[0;34m(\u001b[0m\u001b[0mopen\u001b[0m\u001b[0;34m(\u001b[0m\u001b[0mx\u001b[0m\u001b[0;34m)\u001b[0m\u001b[0;34m)\u001b[0m\u001b[0;34m.\u001b[0m\u001b[0mreadline\u001b[0m\u001b[0;34m\u001b[0m\u001b[0;34m\u001b[0m\u001b[0m\n\u001b[0;32m----> 4\u001b[0;31m \u001b[0mreadtxt\u001b[0m\u001b[0;34m(\u001b[0m\u001b[0;34m\"hello.txt\"\u001b[0m\u001b[0;34m)\u001b[0m\u001b[0;34m\u001b[0m\u001b[0;34m\u001b[0m\u001b[0m\n\u001b[0m",
            "\u001b[0;32m<ipython-input-108-5a76cb4b1934>\u001b[0m in \u001b[0;36m<lambda>\u001b[0;34m(x)\u001b[0m\n\u001b[1;32m      1\u001b[0m \u001b[0;31m#  q7 : Try to write a funtion whihc can perform a read operation from .txt file\u001b[0m\u001b[0;34m\u001b[0m\u001b[0;34m\u001b[0m\u001b[0;34m\u001b[0m\u001b[0m\n\u001b[1;32m      2\u001b[0m \u001b[0;32mimport\u001b[0m \u001b[0mos\u001b[0m\u001b[0;34m\u001b[0m\u001b[0;34m\u001b[0m\u001b[0m\n\u001b[0;32m----> 3\u001b[0;31m \u001b[0mreadtxt\u001b[0m\u001b[0;34m=\u001b[0m \u001b[0;32mlambda\u001b[0m \u001b[0mx\u001b[0m \u001b[0;34m:\u001b[0m \u001b[0;34m(\u001b[0m\u001b[0mopen\u001b[0m\u001b[0;34m(\u001b[0m\u001b[0mx\u001b[0m\u001b[0;34m)\u001b[0m\u001b[0;34m)\u001b[0m\u001b[0;34m.\u001b[0m\u001b[0mreadline\u001b[0m\u001b[0;34m\u001b[0m\u001b[0;34m\u001b[0m\u001b[0m\n\u001b[0m\u001b[1;32m      4\u001b[0m \u001b[0mreadtxt\u001b[0m\u001b[0;34m(\u001b[0m\u001b[0;34m\"hello.txt\"\u001b[0m\u001b[0;34m)\u001b[0m\u001b[0;34m\u001b[0m\u001b[0;34m\u001b[0m\u001b[0m\n",
            "\u001b[0;31mFileNotFoundError\u001b[0m: [Errno 2] No such file or directory: 'hello.txt'"
          ]
        }
      ]
    },
    {
      "cell_type": "code",
      "source": [
        ""
      ],
      "metadata": {
        "id": "HpYr2J6_QrDh"
      },
      "execution_count": null,
      "outputs": []
    }
  ]
}